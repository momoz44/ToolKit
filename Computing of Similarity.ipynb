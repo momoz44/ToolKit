{
 "cells": [
  {
   "cell_type": "code",
   "execution_count": null,
   "metadata": {
    "collapsed": true
   },
   "outputs": [],
   "source": [
    "import numpy as np\n",
    "from math import *"
   ]
  },
  {
   "cell_type": "markdown",
   "metadata": {},
   "source": [
    "欧几里得距离"
   ]
  },
  {
   "cell_type": "code",
   "execution_count": null,
   "metadata": {
    "collapsed": true
   },
   "outputs": [],
   "source": [
    "def eculidSim1(x, y):\n",
    "    return sqrt(sum(pow(a-b, 2) for a,b in zip(x, y)))\n",
    "    # return np.linalg.norm(x-y)"
   ]
  },
  {
   "cell_type": "markdown",
   "metadata": {},
   "source": [
    "曼哈顿距离"
   ]
  },
  {
   "cell_type": "code",
   "execution_count": null,
   "metadata": {
    "collapsed": true
   },
   "outputs": [],
   "source": [
    "def manhattan_dis(x, y):\n",
    "    return sum(abs(a-b) for a,b in zip(x, y))"
   ]
  },
  {
   "cell_type": "markdown",
   "metadata": {},
   "source": [
    "明科夫斯基距离"
   ]
  },
  {
   "cell_type": "code",
   "execution_count": null,
   "metadata": {
    "collapsed": true
   },
   "outputs": [],
   "source": [
    "def minkowshi_dis(x,y,p):\n",
    "    sumvalue=sum(pow(abs(a-b),p) for a,b in zip(x,y))\n",
    "    mi = 1/float(p)\n",
    "    return round(sumvalue**mi, 3)"
   ]
  },
  {
   "cell_type": "markdown",
   "metadata": {},
   "source": [
    "余弦距离"
   ]
  },
  {
   "cell_type": "code",
   "execution_count": null,
   "metadata": {
    "collapsed": true
   },
   "outputs": [],
   "source": [
    "def cosine_dis(x, y):\n",
    "    num=sum(map(float, x*y))\n",
    "    denom = np.linalg.norm(x)*np.linalg.norm(y)\n",
    "    return round(num/float(denom),3)"
   ]
  },
  {
   "cell_type": "code",
   "execution_count": null,
   "metadata": {
    "collapsed": true
   },
   "outputs": [],
   "source": [
    "def cosine(x1,x2):\n",
    "    #find common ratings\n",
    "    new_x1, new_x2 = common(x1,x2)\n",
    "    #compute the cosine similarity between two vectors\n",
    "    sum = new_x1.dot(new_x2)\n",
    "    denom = sqrt(new_x1.dot(new_x1)*new_x2.dot(new_x2))\n",
    "    try:\n",
    "        return float(sum)/denom\n",
    "    except ZeroDivisionError:\n",
    "        return 0\n",
    "def common(x1,x2):\n",
    "    # find common ratings\n",
    "    common = (x1<>0)&(x2<>0)\n",
    "    new_x1 = x1[common]\n",
    "    new_x2 = x2[common]\n",
    "    return new_x1,new_x2"
   ]
  },
  {
   "cell_type": "code",
   "execution_count": null,
   "metadata": {
    "collapsed": true
   },
   "outputs": [],
   "source": [
    "def cosine_sp(x1,x2):\n",
    "    #'x1,x2 are dicts,this version is for sparse representation'\n",
    "    total = 0\n",
    "    denom1 = 0\n",
    "    denom2 =0\n",
    "    for k in x1:\n",
    "        if x2.has_key(k):\n",
    "            total+=x1[k]*x2[k]\n",
    "            denom1+=x1[k]**2\n",
    "            denom2+=x2[k]**2\n",
    "    try:\n",
    "        return (total + 0.0) / (sqrt(denom1) * sqrt(denom2))\n",
    "    except ZeroDivisionError:\n",
    "        return 0"
   ]
  },
  {
   "cell_type": "markdown",
   "metadata": {},
   "source": [
    "杰卡德距离"
   ]
  },
  {
   "cell_type": "code",
   "execution_count": null,
   "metadata": {
    "collapsed": true
   },
   "outputs": [],
   "source": [
    "#离散型\n",
    "def jaccard_similarity(x, y):\n",
    "    intersection_cardinality = len(set.intersection(*[set(x), set(y)]))\n",
    "    union_cardinality = len(set.union(*[set(x), set(y)]))\n",
    "    return intersection_cardinality/float(union_cardinality)"
   ]
  },
  {
   "cell_type": "code",
   "execution_count": null,
   "metadata": {
    "collapsed": true
   },
   "outputs": [],
   "source": [
    "#数值型的推广\n",
    "def jaccard_similariry_num(x, y):\n",
    "    sum = x.dot(y)\n",
    "    denom = x.dot(x)+y.dot(y)-float(sum)\n",
    "    try:\n",
    "        return float(sum)/denom\n",
    "    except ZeroDivisionError:\n",
    "        return 0"
   ]
  },
  {
   "cell_type": "markdown",
   "metadata": {},
   "source": [
    "Dice距离"
   ]
  },
  {
   "cell_type": "code",
   "execution_count": null,
   "metadata": {
    "collapsed": true
   },
   "outputs": [],
   "source": [
    "#离散型\n",
    "def dice_similarity(x, y):\n",
    "    intersection_cardinality = 2*len(set.intersection(*[set(x), set(y)]))\n",
    "    denom = len(set(x))+len(set(y))\n",
    "    return intersection_cardinality/float(denom)"
   ]
  },
  {
   "cell_type": "code",
   "execution_count": null,
   "metadata": {
    "collapsed": true
   },
   "outputs": [],
   "source": [
    "#数值型的推广\n",
    "def dice_similariry_num(x, y):\n",
    "    sum = x.dot(y)\n",
    "    denom = x.dot(x)+y.dot(y)\n",
    "    try:\n",
    "        return float(2*sum)/denom\n",
    "    except ZeroDivisionError:\n",
    "        return 0"
   ]
  },
  {
   "cell_type": "markdown",
   "metadata": {},
   "source": [
    "皮尔森相关系数"
   ]
  },
  {
   "cell_type": "code",
   "execution_count": null,
   "metadata": {
    "collapsed": true
   },
   "outputs": [],
   "source": [
    "def pearson(x1,x2):\n",
    "    #find common ratings\n",
    "    new_x1, new_x2 = common(x1, x2)\n",
    "    #compute the pearson similarity between two vectors\n",
    "    ind1 = new_x1 > 0\n",
    "    ind2 = new_x2 > 0\n",
    "    try:\n",
    "        mean_x1 = float(new_x1.sum())/ind1.sum()\n",
    "        mean_x2 = float(new_x2.sum())/ind2.sum()\n",
    "        new_x1 = new_x1 - mean_x1\n",
    "        new_x2 = new_x2 - mean_x2\n",
    "        sum = new_x1.dot(new_x2)\n",
    "        denom = sqrt((new_x1.dot(new_x1))*(new_x2.dot(new_x2)))\n",
    "        return float(sum) / denom\n",
    "    except ZeroDivisionError:\n",
    "        return 0\n",
    "def common(x1,x2):\n",
    "    # find common ratings 都不能为0\n",
    "    common = (x1<>0)&(x2<>0)\n",
    "    new_x1 = x1[common]\n",
    "    new_x2 = x2[common]\n",
    "    return new_x1,new_x2"
   ]
  },
  {
   "cell_type": "code",
   "execution_count": null,
   "metadata": {
    "collapsed": true
   },
   "outputs": [],
   "source": [
    "def pearson_sp(x1,x2):\n",
    "    #x1,x2 are dicts\n",
    "    total = 0\n",
    "    denom1 = 0\n",
    "    denom2 = 0\n",
    "    try:\n",
    "        mean1 = sum(x1.values())/(len(x1)+0.0)\n",
    "        mean2 = sum(x2.values()) / (len(x2) + 0.0)\n",
    "        for k in x1:\n",
    "            if x2.has_key(k):\n",
    "                total += (x1[k]-mean1) * (x2[k]-mean2)\n",
    "                denom1 += (x1[k]-mean1) ** 2\n",
    "                denom2 += (x2[k]-mean2) ** 2\n",
    "        # 这个之前是放在for循环下面的，有问题。\n",
    "        return (total + 0.0) / (sqrt(denom1) * sqrt(denom2))\n",
    "    except ZeroDivisionError:\n",
    "        return 0"
   ]
  }
 ],
 "metadata": {
  "kernelspec": {
   "display_name": "Python 3",
   "language": "python",
   "name": "python3"
  },
  "language_info": {
   "codemirror_mode": {
    "name": "ipython",
    "version": 3
   },
   "file_extension": ".py",
   "mimetype": "text/x-python",
   "name": "python",
   "nbconvert_exporter": "python",
   "pygments_lexer": "ipython3",
   "version": "3.6.1"
  }
 },
 "nbformat": 4,
 "nbformat_minor": 2
}
