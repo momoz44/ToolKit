{
 "cells": [
  {
   "cell_type": "code",
   "execution_count": 1,
   "metadata": {
    "collapsed": true
   },
   "outputs": [],
   "source": [
    "import pandas as pd\n",
    "import numpy as np"
   ]
  },
  {
   "cell_type": "code",
   "execution_count": 2,
   "metadata": {
    "collapsed": true
   },
   "outputs": [],
   "source": [
    "data = open('创京东.txt').read()"
   ]
  },
  {
   "cell_type": "code",
   "execution_count": 6,
   "metadata": {},
   "outputs": [],
   "source": [
    "from jieba import analyse"
   ]
  },
  {
   "cell_type": "code",
   "execution_count": 7,
   "metadata": {
    "collapsed": true
   },
   "outputs": [],
   "source": [
    "import jieba"
   ]
  },
  {
   "cell_type": "code",
   "execution_count": 8,
   "metadata": {},
   "outputs": [
    {
     "name": "stderr",
     "output_type": "stream",
     "text": [
      "Building prefix dict from the default dictionary ...\n",
      "Loading model from cache /var/folders/xq/bsp2_bt10rn577fsrzpzxkkh0000gn/T/jieba.cache\n",
      "Loading model cost 1.555 seconds.\n",
      "Prefix dict has been built succesfully.\n"
     ]
    }
   ],
   "source": [
    "jieba.load_userdict(\"userdict.txt\")\n",
    "analyse.set_idf_path('idf.txt')"
   ]
  },
  {
   "cell_type": "code",
   "execution_count": 11,
   "metadata": {
    "collapsed": true
   },
   "outputs": [],
   "source": [
    "keywords = analyse.extract_tags(data, topK=50, withWeight=True, allowPOS=('n','ns','nt','nz','nv','l','vd','vn','v','vf','vx','vi','vl','vg','a','ad','an','ag','al','d','x'))"
   ]
  },
  {
   "cell_type": "code",
   "execution_count": 12,
   "metadata": {},
   "outputs": [
    {
     "data": {
      "text/plain": [
       "[('京东', 0.3971268165529119),\n",
       " ('电商', 0.06581158134307423),\n",
       " ('员工', 0.06225419499673008),\n",
       " ('配送', 0.053090059813658115),\n",
       " ('公司', 0.045443851382572724),\n",
       " ('客户', 0.031192161390970006),\n",
       " ('没有', 0.0283458792625978),\n",
       " ('时候', 0.02830001728293207),\n",
       " ('团队', 0.027977969340012444),\n",
       " ('物流', 0.026577265985858484),\n",
       " ('用户', 0.02636788323836466),\n",
       " ('系统', 0.02132163630069116),\n",
       " ('大家', 0.020664908081309743),\n",
       " ('采销', 0.01938330735184857),\n",
       " ('需要', 0.018920741099309968),\n",
       " ('中国', 0.01872063470191889),\n",
       " ('问题', 0.017112132279469092),\n",
       " ('企业', 0.016555657217428025),\n",
       " ('订单', 0.01632542520837503),\n",
       " ('互联网', 0.0159783042883903),\n",
       " ('管理', 0.015950723875255368),\n",
       " ('图书', 0.01581677392646632),\n",
       " ('品类', 0.015596922802835544),\n",
       " ('仓库', 0.015304425379336739),\n",
       " ('就是', 0.014720779517346582),\n",
       " ('部门', 0.014385508457447635),\n",
       " ('价值观', 0.013615279708073757),\n",
       " ('消费者', 0.013586145339131429),\n",
       " ('客服', 0.013402927186136008),\n",
       " ('腾讯', 0.01320568161907732),\n",
       " ('供应商', 0.013069884010667785),\n",
       " ('成本', 0.012751924429881413),\n",
       " ('业务', 0.012739656671871949),\n",
       " ('觉得', 0.012563669054517826),\n",
       " ('供应链', 0.012483618970539206),\n",
       " ('能够', 0.012330260113707133),\n",
       " ('开始', 0.012106097679958523),\n",
       " ('加入', 0.01198194055660489),\n",
       " ('零售', 0.011894231424095889),\n",
       " ('负责', 0.011875721147344318),\n",
       " ('体系', 0.011761702327785298),\n",
       " ('高管', 0.011720139329024716),\n",
       " ('产品', 0.011684025581223582),\n",
       " ('服务', 0.01168321617729907),\n",
       " ('厂商', 0.011626198846175599),\n",
       " ('工作', 0.01148917261440678),\n",
       " ('时间', 0.011460029132869667),\n",
       " ('必须', 0.011385462622654361),\n",
       " ('快递', 0.011345347909466263),\n",
       " ('体验', 0.011210918234377181)]"
      ]
     },
     "execution_count": 12,
     "metadata": {},
     "output_type": "execute_result"
    }
   ],
   "source": [
    "keywords"
   ]
  },
  {
   "cell_type": "code",
   "execution_count": 13,
   "metadata": {
    "collapsed": true
   },
   "outputs": [],
   "source": [
    "keys = {}\n",
    "for i in keywords:\n",
    "    keys[i[0]]=i[1]"
   ]
  },
  {
   "cell_type": "code",
   "execution_count": 14,
   "metadata": {
    "collapsed": true
   },
   "outputs": [],
   "source": [
    "import matplotlib.pyplot as plt\n",
    "from wordcloud import WordCloud,ImageColorGenerator,STOPWORDS\n",
    "from PIL import Image"
   ]
  },
  {
   "cell_type": "code",
   "execution_count": 15,
   "metadata": {
    "collapsed": true
   },
   "outputs": [],
   "source": [
    "from scipy.misc import imread"
   ]
  },
  {
   "cell_type": "code",
   "execution_count": 25,
   "metadata": {
    "collapsed": true
   },
   "outputs": [],
   "source": [
    "bgpng = imread('jingdong2.png')"
   ]
  },
  {
   "cell_type": "code",
   "execution_count": 32,
   "metadata": {
    "collapsed": true
   },
   "outputs": [],
   "source": [
    "wc = WordCloud(background_color=\"red\", #背景颜色max_words=2000,# 词云显示的最大词数\n",
    "mask=bgpng,#设置背景图片\n",
    "#max_font_size=40, #字体最大值\n",
    "random_state=42,\n",
    "font_path = '/System/Library/Fonts/华文细黑.ttf',)"
   ]
  },
  {
   "cell_type": "code",
   "execution_count": 33,
   "metadata": {},
   "outputs": [
    {
     "data": {
      "text/plain": [
       "<wordcloud.wordcloud.WordCloud at 0x112449f98>"
      ]
     },
     "execution_count": 33,
     "metadata": {},
     "output_type": "execute_result"
    }
   ],
   "source": [
    "wc.generate_from_frequencies(keys)"
   ]
  },
  {
   "cell_type": "code",
   "execution_count": 34,
   "metadata": {
    "collapsed": true
   },
   "outputs": [],
   "source": [
    "image_colors = ImageColorGenerator(bgpng)"
   ]
  },
  {
   "cell_type": "code",
   "execution_count": 36,
   "metadata": {},
   "outputs": [
    {
     "data": {
      "image/png": "[encoded data removed]",
      "text/plain": [
       "<matplotlib.figure.Figure at 0x11246dd30>"
      ]
     },
     "metadata": {},
     "output_type": "display_data"
    }
   ],
   "source": [
    "plt.imshow(wc.recolor(color_func=image_colors))\n",
    "plt.axis(\"off\")\n",
    "plt.show()"
   ]
  },
  {
   "cell_type": "code",
   "execution_count": 37,
   "metadata": {},
   "outputs": [
    {
     "data": {
      "text/plain": [
       "<wordcloud.wordcloud.WordCloud at 0x112449f98>"
      ]
     },
     "execution_count": 37,
     "metadata": {},
     "output_type": "execute_result"
    }
   ],
   "source": [
    "wc.to_file(\"./jd.png\")"
   ]
  },
  {
   "cell_type": "code",
   "execution_count": null,
   "metadata": {
    "collapsed": true
   },
   "outputs": [],
   "source": []
  }
 ],
 "metadata": {
  "kernelspec": {
   "display_name": "Python 3",
   "language": "python",
   "name": "python3"
  },
  "language_info": {
   "codemirror_mode": {
    "name": "ipython",
    "version": 3
   },
   "file_extension": ".py",
   "mimetype": "text/x-python",
   "name": "python",
   "nbconvert_exporter": "python",
   "pygments_lexer": "ipython3",
   "version": "3.6.1"
  }
 },
 "nbformat": 4,
 "nbformat_minor": 2
}
